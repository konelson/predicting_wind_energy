{
 "cells": [
  {
   "cell_type": "markdown",
   "metadata": {},
   "source": [
    "# Median Household Income"
   ]
  },
  {
   "cell_type": "code",
   "execution_count": 1,
   "metadata": {},
   "outputs": [
    {
     "data": {
      "text/plain": [
       "'/Users/kelly/metis_v3/Project_2'"
      ]
     },
     "execution_count": 1,
     "metadata": {},
     "output_type": "execute_result"
    }
   ],
   "source": [
    "pwd"
   ]
  },
  {
   "cell_type": "code",
   "execution_count": 37,
   "metadata": {},
   "outputs": [],
   "source": [
    "import pandas as pd\n",
    "import numpy as np\n",
    "import matplotlib.pyplot as plt"
   ]
  },
  {
   "cell_type": "code",
   "execution_count": 28,
   "metadata": {},
   "outputs": [],
   "source": [
    "#Import Median Household Income from Census Data\n",
    "\n",
    "census_data = pd.read_csv('median_household_income.csv')"
   ]
  },
  {
   "cell_type": "code",
   "execution_count": 29,
   "metadata": {},
   "outputs": [
    {
     "data": {
      "text/html": [
       "<div>\n",
       "<style scoped>\n",
       "    .dataframe tbody tr th:only-of-type {\n",
       "        vertical-align: middle;\n",
       "    }\n",
       "\n",
       "    .dataframe tbody tr th {\n",
       "        vertical-align: top;\n",
       "    }\n",
       "\n",
       "    .dataframe thead th {\n",
       "        text-align: right;\n",
       "    }\n",
       "</style>\n",
       "<table border=\"1\" class=\"dataframe\">\n",
       "  <thead>\n",
       "    <tr style=\"text-align: right;\">\n",
       "      <th></th>\n",
       "      <th>State</th>\n",
       "      <th>2016</th>\n",
       "      <th>2015</th>\n",
       "      <th>2014</th>\n",
       "      <th>2013</th>\n",
       "      <th>2012</th>\n",
       "      <th>2011</th>\n",
       "      <th>2010</th>\n",
       "      <th>2009</th>\n",
       "      <th>2008</th>\n",
       "      <th>2007</th>\n",
       "      <th>2006</th>\n",
       "      <th>2005</th>\n",
       "      <th>2004</th>\n",
       "      <th>2003</th>\n",
       "      <th>2002</th>\n",
       "      <th>2001</th>\n",
       "      <th>2000</th>\n",
       "      <th>1999</th>\n",
       "    </tr>\n",
       "  </thead>\n",
       "  <tbody>\n",
       "    <tr>\n",
       "      <th>0</th>\n",
       "      <td>United States</td>\n",
       "      <td>59039</td>\n",
       "      <td>56516</td>\n",
       "      <td>53657</td>\n",
       "      <td>51939</td>\n",
       "      <td>51017</td>\n",
       "      <td>50054</td>\n",
       "      <td>49276</td>\n",
       "      <td>49777</td>\n",
       "      <td>50303</td>\n",
       "      <td>50233</td>\n",
       "      <td>48201</td>\n",
       "      <td>46326</td>\n",
       "      <td>44334</td>\n",
       "      <td>43318</td>\n",
       "      <td>42409</td>\n",
       "      <td>42228</td>\n",
       "      <td>41990</td>\n",
       "      <td>40696</td>\n",
       "    </tr>\n",
       "    <tr>\n",
       "      <th>1</th>\n",
       "      <td>Alabama</td>\n",
       "      <td>47221</td>\n",
       "      <td>44509</td>\n",
       "      <td>42278</td>\n",
       "      <td>41381</td>\n",
       "      <td>43464</td>\n",
       "      <td>42590</td>\n",
       "      <td>40933</td>\n",
       "      <td>39980</td>\n",
       "      <td>44476</td>\n",
       "      <td>42212</td>\n",
       "      <td>37952</td>\n",
       "      <td>37150</td>\n",
       "      <td>36629</td>\n",
       "      <td>37255</td>\n",
       "      <td>37603</td>\n",
       "      <td>35160</td>\n",
       "      <td>35424</td>\n",
       "      <td>36251</td>\n",
       "    </tr>\n",
       "    <tr>\n",
       "      <th>2</th>\n",
       "      <td>Alaska</td>\n",
       "      <td>75723</td>\n",
       "      <td>75112</td>\n",
       "      <td>67629</td>\n",
       "      <td>61137</td>\n",
       "      <td>63648</td>\n",
       "      <td>57431</td>\n",
       "      <td>57848</td>\n",
       "      <td>61604</td>\n",
       "      <td>63989</td>\n",
       "      <td>62993</td>\n",
       "      <td>56418</td>\n",
       "      <td>55891</td>\n",
       "      <td>55063</td>\n",
       "      <td>51837</td>\n",
       "      <td>52774</td>\n",
       "      <td>57363</td>\n",
       "      <td>52847</td>\n",
       "      <td>51396</td>\n",
       "    </tr>\n",
       "    <tr>\n",
       "      <th>3</th>\n",
       "      <td>Arizona</td>\n",
       "      <td>57100</td>\n",
       "      <td>52248</td>\n",
       "      <td>49254</td>\n",
       "      <td>50602</td>\n",
       "      <td>47044</td>\n",
       "      <td>48621</td>\n",
       "      <td>46896</td>\n",
       "      <td>45739</td>\n",
       "      <td>46914</td>\n",
       "      <td>47215</td>\n",
       "      <td>46657</td>\n",
       "      <td>45245</td>\n",
       "      <td>43846</td>\n",
       "      <td>41166</td>\n",
       "      <td>39734</td>\n",
       "      <td>42704</td>\n",
       "      <td>39783</td>\n",
       "      <td>36995</td>\n",
       "    </tr>\n",
       "    <tr>\n",
       "      <th>4</th>\n",
       "      <td>Arkansas</td>\n",
       "      <td>45907</td>\n",
       "      <td>42798</td>\n",
       "      <td>44922</td>\n",
       "      <td>39919</td>\n",
       "      <td>39018</td>\n",
       "      <td>41302</td>\n",
       "      <td>38587</td>\n",
       "      <td>36538</td>\n",
       "      <td>39586</td>\n",
       "      <td>40795</td>\n",
       "      <td>37057</td>\n",
       "      <td>36658</td>\n",
       "      <td>34984</td>\n",
       "      <td>32002</td>\n",
       "      <td>32387</td>\n",
       "      <td>33339</td>\n",
       "      <td>29697</td>\n",
       "      <td>29682</td>\n",
       "    </tr>\n",
       "  </tbody>\n",
       "</table>\n",
       "</div>"
      ],
      "text/plain": [
       "           State   2016   2015   2014   2013   2012   2011   2010   2009  \\\n",
       "0  United States  59039  56516  53657  51939  51017  50054  49276  49777   \n",
       "1        Alabama  47221  44509  42278  41381  43464  42590  40933  39980   \n",
       "2         Alaska  75723  75112  67629  61137  63648  57431  57848  61604   \n",
       "3        Arizona  57100  52248  49254  50602  47044  48621  46896  45739   \n",
       "4       Arkansas  45907  42798  44922  39919  39018  41302  38587  36538   \n",
       "\n",
       "    2008   2007   2006   2005   2004   2003   2002   2001   2000   1999  \n",
       "0  50303  50233  48201  46326  44334  43318  42409  42228  41990  40696  \n",
       "1  44476  42212  37952  37150  36629  37255  37603  35160  35424  36251  \n",
       "2  63989  62993  56418  55891  55063  51837  52774  57363  52847  51396  \n",
       "3  46914  47215  46657  45245  43846  41166  39734  42704  39783  36995  \n",
       "4  39586  40795  37057  36658  34984  32002  32387  33339  29697  29682  "
      ]
     },
     "execution_count": 29,
     "metadata": {},
     "output_type": "execute_result"
    }
   ],
   "source": [
    "census_data.head()"
   ]
  },
  {
   "cell_type": "code",
   "execution_count": 30,
   "metadata": {},
   "outputs": [
    {
     "name": "stderr",
     "output_type": "stream",
     "text": [
      "/anaconda3/lib/python3.6/site-packages/pandas/core/indexing.py:1472: FutureWarning: \n",
      "Passing list-likes to .loc or [] with any missing label will raise\n",
      "KeyError in the future, you can use .reindex() as an alternative.\n",
      "\n",
      "See the documentation here:\n",
      "https://pandas.pydata.org/pandas-docs/stable/indexing.html#deprecate-loc-reindex-listlike\n",
      "  return self._getitem_tuple(key)\n"
     ]
    }
   ],
   "source": [
    "census_data = census_data.melt(id_vars = ['State'], value_vars =['1999','2000','2001','2002','2003','2004','2005','2006','2007','2008','2009','2010','2011','2012','2013','2014','2015','2016','2017'], var_name = 'year' ).groupby(by = ['State','year']).sum()"
   ]
  },
  {
   "cell_type": "code",
   "execution_count": 32,
   "metadata": {},
   "outputs": [
    {
     "data": {
      "text/plain": [
       "value    float64\n",
       "dtype: object"
      ]
     },
     "execution_count": 32,
     "metadata": {},
     "output_type": "execute_result"
    }
   ],
   "source": [
    "census_data.dtypes"
   ]
  },
  {
   "cell_type": "code",
   "execution_count": 33,
   "metadata": {},
   "outputs": [
    {
     "data": {
      "text/html": [
       "<div>\n",
       "<style scoped>\n",
       "    .dataframe tbody tr th:only-of-type {\n",
       "        vertical-align: middle;\n",
       "    }\n",
       "\n",
       "    .dataframe tbody tr th {\n",
       "        vertical-align: top;\n",
       "    }\n",
       "\n",
       "    .dataframe thead th {\n",
       "        text-align: right;\n",
       "    }\n",
       "</style>\n",
       "<table border=\"1\" class=\"dataframe\">\n",
       "  <thead>\n",
       "    <tr style=\"text-align: right;\">\n",
       "      <th></th>\n",
       "      <th></th>\n",
       "      <th>value</th>\n",
       "    </tr>\n",
       "    <tr>\n",
       "      <th>State</th>\n",
       "      <th>year</th>\n",
       "      <th></th>\n",
       "    </tr>\n",
       "  </thead>\n",
       "  <tbody>\n",
       "    <tr>\n",
       "      <th rowspan=\"5\" valign=\"top\">Alabama</th>\n",
       "      <th>1999</th>\n",
       "      <td>36251.0</td>\n",
       "    </tr>\n",
       "    <tr>\n",
       "      <th>2000</th>\n",
       "      <td>35424.0</td>\n",
       "    </tr>\n",
       "    <tr>\n",
       "      <th>2001</th>\n",
       "      <td>35160.0</td>\n",
       "    </tr>\n",
       "    <tr>\n",
       "      <th>2002</th>\n",
       "      <td>37603.0</td>\n",
       "    </tr>\n",
       "    <tr>\n",
       "      <th>2003</th>\n",
       "      <td>37255.0</td>\n",
       "    </tr>\n",
       "  </tbody>\n",
       "</table>\n",
       "</div>"
      ],
      "text/plain": [
       "                value\n",
       "State   year         \n",
       "Alabama 1999  36251.0\n",
       "        2000  35424.0\n",
       "        2001  35160.0\n",
       "        2002  37603.0\n",
       "        2003  37255.0"
      ]
     },
     "execution_count": 33,
     "metadata": {},
     "output_type": "execute_result"
    }
   ],
   "source": [
    "census_data.head()"
   ]
  },
  {
   "cell_type": "code",
   "execution_count": 94,
   "metadata": {},
   "outputs": [
    {
     "data": {
      "text/html": [
       "<div>\n",
       "<style scoped>\n",
       "    .dataframe tbody tr th:only-of-type {\n",
       "        vertical-align: middle;\n",
       "    }\n",
       "\n",
       "    .dataframe tbody tr th {\n",
       "        vertical-align: top;\n",
       "    }\n",
       "\n",
       "    .dataframe thead th {\n",
       "        text-align: right;\n",
       "    }\n",
       "</style>\n",
       "<table border=\"1\" class=\"dataframe\">\n",
       "  <thead>\n",
       "    <tr style=\"text-align: right;\">\n",
       "      <th></th>\n",
       "      <th></th>\n",
       "      <th>value</th>\n",
       "    </tr>\n",
       "    <tr>\n",
       "      <th>State</th>\n",
       "      <th>year</th>\n",
       "      <th></th>\n",
       "    </tr>\n",
       "  </thead>\n",
       "  <tbody>\n",
       "    <tr>\n",
       "      <th rowspan=\"5\" valign=\"top\">Wyoming</th>\n",
       "      <th>2013</th>\n",
       "      <td>55700.0</td>\n",
       "    </tr>\n",
       "    <tr>\n",
       "      <th>2014</th>\n",
       "      <td>55690.0</td>\n",
       "    </tr>\n",
       "    <tr>\n",
       "      <th>2015</th>\n",
       "      <td>60925.0</td>\n",
       "    </tr>\n",
       "    <tr>\n",
       "      <th>2016</th>\n",
       "      <td>57829.0</td>\n",
       "    </tr>\n",
       "    <tr>\n",
       "      <th>2017</th>\n",
       "      <td>0.0</td>\n",
       "    </tr>\n",
       "  </tbody>\n",
       "</table>\n",
       "</div>"
      ],
      "text/plain": [
       "                value\n",
       "State   year         \n",
       "Wyoming 2013  55700.0\n",
       "        2014  55690.0\n",
       "        2015  60925.0\n",
       "        2016  57829.0\n",
       "        2017      0.0"
      ]
     },
     "execution_count": 94,
     "metadata": {},
     "output_type": "execute_result"
    }
   ],
   "source": [
    "census_data.tail()"
   ]
  },
  {
   "cell_type": "code",
   "execution_count": 97,
   "metadata": {},
   "outputs": [
    {
     "data": {
      "text/plain": [
       "<bound method NDFrame.describe of                   value\n",
       "State     year         \n",
       "Alabama   1999  36251.0\n",
       "          2000  35424.0\n",
       "          2001  35160.0\n",
       "          2002  37603.0\n",
       "          2003  37255.0\n",
       "          2004  36629.0\n",
       "          2005  37150.0\n",
       "          2006  37952.0\n",
       "          2007  42212.0\n",
       "          2008  44476.0\n",
       "          2009  39980.0\n",
       "          2010  40933.0\n",
       "          2011  42590.0\n",
       "          2012  43464.0\n",
       "          2013  41381.0\n",
       "          2014  42278.0\n",
       "          2015  44509.0\n",
       "          2016  47221.0\n",
       "          2017      0.0\n",
       "Alaska    1999  51396.0\n",
       "          2000  52847.0\n",
       "          2001  57363.0\n",
       "          2002  52774.0\n",
       "          2003  51837.0\n",
       "          2004  55063.0\n",
       "          2005  55891.0\n",
       "          2006  56418.0\n",
       "          2007  62993.0\n",
       "          2008  63989.0\n",
       "          2009  61604.0\n",
       "...                 ...\n",
       "Wisconsin 2007  51277.0\n",
       "          2008  51200.0\n",
       "          2009  51237.0\n",
       "          2010  50351.0\n",
       "          2011  52058.0\n",
       "          2012  53079.0\n",
       "          2013  55258.0\n",
       "          2014  58080.0\n",
       "          2015  55425.0\n",
       "          2016  59817.0\n",
       "          2017      0.0\n",
       "Wyoming   1999  37248.0\n",
       "          2000  39629.0\n",
       "          2001  39719.0\n",
       "          2002  39763.0\n",
       "          2003  42555.0\n",
       "          2004  45397.0\n",
       "          2005  44718.0\n",
       "          2006  47041.0\n",
       "          2007  48744.0\n",
       "          2008  53337.0\n",
       "          2009  52470.0\n",
       "          2010  52201.0\n",
       "          2011  54509.0\n",
       "          2012  57512.0\n",
       "          2013  55700.0\n",
       "          2014  55690.0\n",
       "          2015  60925.0\n",
       "          2016  57829.0\n",
       "          2017      0.0\n",
       "\n",
       "[988 rows x 1 columns]>"
      ]
     },
     "execution_count": 97,
     "metadata": {},
     "output_type": "execute_result"
    }
   ],
   "source": [
    "census_data.describe"
   ]
  },
  {
   "cell_type": "code",
   "execution_count": 44,
   "metadata": {},
   "outputs": [],
   "source": [
    "total_by_year = census_data.groupby(by = 'year').sum()[:-1].reset_index()"
   ]
  },
  {
   "cell_type": "code",
   "execution_count": 45,
   "metadata": {},
   "outputs": [],
   "source": [
    "x = total_by_year['year']\n",
    "y = total_by_year['value']"
   ]
  },
  {
   "cell_type": "code",
   "execution_count": 52,
   "metadata": {},
   "outputs": [
    {
     "data": {
      "image/png": "[encoded data removed]",
      "text/plain": [
       "<Figure size 432x288 with 1 Axes>"
      ]
     },
     "metadata": {},
     "output_type": "display_data"
    }
   ],
   "source": [
    "plt.plot(x, y);\n",
    "plt.xticks(np.arange(17, step = 2));\n",
    "plt.title('U.S. Median Income over Time');\n",
    "plt.ylabel('Dollars');"
   ]
  },
  {
   "cell_type": "code",
   "execution_count": 98,
   "metadata": {},
   "outputs": [
    {
     "data": {
      "text/html": [
       "<div>\n",
       "<style scoped>\n",
       "    .dataframe tbody tr th:only-of-type {\n",
       "        vertical-align: middle;\n",
       "    }\n",
       "\n",
       "    .dataframe tbody tr th {\n",
       "        vertical-align: top;\n",
       "    }\n",
       "\n",
       "    .dataframe thead th {\n",
       "        text-align: right;\n",
       "    }\n",
       "</style>\n",
       "<table border=\"1\" class=\"dataframe\">\n",
       "  <thead>\n",
       "    <tr style=\"text-align: right;\">\n",
       "      <th></th>\n",
       "      <th>year</th>\n",
       "      <th>value</th>\n",
       "    </tr>\n",
       "  </thead>\n",
       "  <tbody>\n",
       "    <tr>\n",
       "      <th>0</th>\n",
       "      <td>1999</td>\n",
       "      <td>2093517.0</td>\n",
       "    </tr>\n",
       "    <tr>\n",
       "      <th>1</th>\n",
       "      <td>2000</td>\n",
       "      <td>2171887.0</td>\n",
       "    </tr>\n",
       "    <tr>\n",
       "      <th>2</th>\n",
       "      <td>2001</td>\n",
       "      <td>2199550.0</td>\n",
       "    </tr>\n",
       "    <tr>\n",
       "      <th>3</th>\n",
       "      <td>2002</td>\n",
       "      <td>2203069.0</td>\n",
       "    </tr>\n",
       "    <tr>\n",
       "      <th>4</th>\n",
       "      <td>2003</td>\n",
       "      <td>2258189.0</td>\n",
       "    </tr>\n",
       "    <tr>\n",
       "      <th>5</th>\n",
       "      <td>2004</td>\n",
       "      <td>2313729.0</td>\n",
       "    </tr>\n",
       "    <tr>\n",
       "      <th>6</th>\n",
       "      <td>2005</td>\n",
       "      <td>2403031.0</td>\n",
       "    </tr>\n",
       "    <tr>\n",
       "      <th>7</th>\n",
       "      <td>2006</td>\n",
       "      <td>2514206.0</td>\n",
       "    </tr>\n",
       "    <tr>\n",
       "      <th>8</th>\n",
       "      <td>2007</td>\n",
       "      <td>2620643.0</td>\n",
       "    </tr>\n",
       "    <tr>\n",
       "      <th>9</th>\n",
       "      <td>2008</td>\n",
       "      <td>2639914.0</td>\n",
       "    </tr>\n",
       "    <tr>\n",
       "      <th>10</th>\n",
       "      <td>2009</td>\n",
       "      <td>2592500.0</td>\n",
       "    </tr>\n",
       "    <tr>\n",
       "      <th>11</th>\n",
       "      <td>2010</td>\n",
       "      <td>2600208.0</td>\n",
       "    </tr>\n",
       "    <tr>\n",
       "      <th>12</th>\n",
       "      <td>2011</td>\n",
       "      <td>2635064.0</td>\n",
       "    </tr>\n",
       "    <tr>\n",
       "      <th>13</th>\n",
       "      <td>2012</td>\n",
       "      <td>2703385.0</td>\n",
       "    </tr>\n",
       "    <tr>\n",
       "      <th>14</th>\n",
       "      <td>2013</td>\n",
       "      <td>2745289.0</td>\n",
       "    </tr>\n",
       "    <tr>\n",
       "      <th>15</th>\n",
       "      <td>2014</td>\n",
       "      <td>2870061.0</td>\n",
       "    </tr>\n",
       "    <tr>\n",
       "      <th>16</th>\n",
       "      <td>2015</td>\n",
       "      <td>2964094.0</td>\n",
       "    </tr>\n",
       "    <tr>\n",
       "      <th>17</th>\n",
       "      <td>2016</td>\n",
       "      <td>3077168.0</td>\n",
       "    </tr>\n",
       "  </tbody>\n",
       "</table>\n",
       "</div>"
      ],
      "text/plain": [
       "    year      value\n",
       "0   1999  2093517.0\n",
       "1   2000  2171887.0\n",
       "2   2001  2199550.0\n",
       "3   2002  2203069.0\n",
       "4   2003  2258189.0\n",
       "5   2004  2313729.0\n",
       "6   2005  2403031.0\n",
       "7   2006  2514206.0\n",
       "8   2007  2620643.0\n",
       "9   2008  2639914.0\n",
       "10  2009  2592500.0\n",
       "11  2010  2600208.0\n",
       "12  2011  2635064.0\n",
       "13  2012  2703385.0\n",
       "14  2013  2745289.0\n",
       "15  2014  2870061.0\n",
       "16  2015  2964094.0\n",
       "17  2016  3077168.0"
      ]
     },
     "execution_count": 98,
     "metadata": {},
     "output_type": "execute_result"
    }
   ],
   "source": [
    "total_by_year"
   ]
  },
  {
   "cell_type": "code",
   "execution_count": 109,
   "metadata": {},
   "outputs": [],
   "source": [
    "years = list(np.arange(2001,2017))"
   ]
  },
  {
   "cell_type": "code",
   "execution_count": 141,
   "metadata": {},
   "outputs": [],
   "source": [
    "census_data = census_data.reset_index()"
   ]
  },
  {
   "cell_type": "code",
   "execution_count": 148,
   "metadata": {},
   "outputs": [],
   "source": [
    "census_data = census_data[census_data['year']!='1999']"
   ]
  },
  {
   "cell_type": "code",
   "execution_count": 149,
   "metadata": {},
   "outputs": [],
   "source": [
    "census_data = census_data[census_data['year']!='2000']"
   ]
  },
  {
   "cell_type": "code",
   "execution_count": 150,
   "metadata": {},
   "outputs": [],
   "source": [
    "census_data = census_data[census_data['year']!='2017']"
   ]
  },
  {
   "cell_type": "code",
   "execution_count": 152,
   "metadata": {},
   "outputs": [
    {
     "data": {
      "text/html": [
       "<div>\n",
       "<style scoped>\n",
       "    .dataframe tbody tr th:only-of-type {\n",
       "        vertical-align: middle;\n",
       "    }\n",
       "\n",
       "    .dataframe tbody tr th {\n",
       "        vertical-align: top;\n",
       "    }\n",
       "\n",
       "    .dataframe thead th {\n",
       "        text-align: right;\n",
       "    }\n",
       "</style>\n",
       "<table border=\"1\" class=\"dataframe\">\n",
       "  <thead>\n",
       "    <tr style=\"text-align: right;\">\n",
       "      <th></th>\n",
       "      <th>State</th>\n",
       "      <th>year</th>\n",
       "      <th>value</th>\n",
       "    </tr>\n",
       "  </thead>\n",
       "  <tbody>\n",
       "    <tr>\n",
       "      <th>2</th>\n",
       "      <td>Alabama</td>\n",
       "      <td>2001</td>\n",
       "      <td>35160.0</td>\n",
       "    </tr>\n",
       "    <tr>\n",
       "      <th>3</th>\n",
       "      <td>Alabama</td>\n",
       "      <td>2002</td>\n",
       "      <td>37603.0</td>\n",
       "    </tr>\n",
       "    <tr>\n",
       "      <th>4</th>\n",
       "      <td>Alabama</td>\n",
       "      <td>2003</td>\n",
       "      <td>37255.0</td>\n",
       "    </tr>\n",
       "    <tr>\n",
       "      <th>5</th>\n",
       "      <td>Alabama</td>\n",
       "      <td>2004</td>\n",
       "      <td>36629.0</td>\n",
       "    </tr>\n",
       "    <tr>\n",
       "      <th>6</th>\n",
       "      <td>Alabama</td>\n",
       "      <td>2005</td>\n",
       "      <td>37150.0</td>\n",
       "    </tr>\n",
       "  </tbody>\n",
       "</table>\n",
       "</div>"
      ],
      "text/plain": [
       "     State  year    value\n",
       "2  Alabama  2001  35160.0\n",
       "3  Alabama  2002  37603.0\n",
       "4  Alabama  2003  37255.0\n",
       "5  Alabama  2004  36629.0\n",
       "6  Alabama  2005  37150.0"
      ]
     },
     "execution_count": 152,
     "metadata": {},
     "output_type": "execute_result"
    }
   ],
   "source": [
    "census_data.head()"
   ]
  },
  {
   "cell_type": "code",
   "execution_count": 153,
   "metadata": {},
   "outputs": [
    {
     "data": {
      "text/html": [
       "<div>\n",
       "<style scoped>\n",
       "    .dataframe tbody tr th:only-of-type {\n",
       "        vertical-align: middle;\n",
       "    }\n",
       "\n",
       "    .dataframe tbody tr th {\n",
       "        vertical-align: top;\n",
       "    }\n",
       "\n",
       "    .dataframe thead th {\n",
       "        text-align: right;\n",
       "    }\n",
       "</style>\n",
       "<table border=\"1\" class=\"dataframe\">\n",
       "  <thead>\n",
       "    <tr style=\"text-align: right;\">\n",
       "      <th></th>\n",
       "      <th>State</th>\n",
       "      <th>year</th>\n",
       "      <th>value</th>\n",
       "    </tr>\n",
       "  </thead>\n",
       "  <tbody>\n",
       "    <tr>\n",
       "      <th>982</th>\n",
       "      <td>Wyoming</td>\n",
       "      <td>2012</td>\n",
       "      <td>57512.0</td>\n",
       "    </tr>\n",
       "    <tr>\n",
       "      <th>983</th>\n",
       "      <td>Wyoming</td>\n",
       "      <td>2013</td>\n",
       "      <td>55700.0</td>\n",
       "    </tr>\n",
       "    <tr>\n",
       "      <th>984</th>\n",
       "      <td>Wyoming</td>\n",
       "      <td>2014</td>\n",
       "      <td>55690.0</td>\n",
       "    </tr>\n",
       "    <tr>\n",
       "      <th>985</th>\n",
       "      <td>Wyoming</td>\n",
       "      <td>2015</td>\n",
       "      <td>60925.0</td>\n",
       "    </tr>\n",
       "    <tr>\n",
       "      <th>986</th>\n",
       "      <td>Wyoming</td>\n",
       "      <td>2016</td>\n",
       "      <td>57829.0</td>\n",
       "    </tr>\n",
       "  </tbody>\n",
       "</table>\n",
       "</div>"
      ],
      "text/plain": [
       "       State  year    value\n",
       "982  Wyoming  2012  57512.0\n",
       "983  Wyoming  2013  55700.0\n",
       "984  Wyoming  2014  55690.0\n",
       "985  Wyoming  2015  60925.0\n",
       "986  Wyoming  2016  57829.0"
      ]
     },
     "execution_count": 153,
     "metadata": {},
     "output_type": "execute_result"
    }
   ],
   "source": [
    "census_data.tail()"
   ]
  },
  {
   "cell_type": "code",
   "execution_count": 155,
   "metadata": {},
   "outputs": [],
   "source": [
    "import pickle"
   ]
  },
  {
   "cell_type": "code",
   "execution_count": 156,
   "metadata": {},
   "outputs": [],
   "source": [
    "#Save final DataFrame as pickle file\n",
    "\n",
    "with open ('median_income.pickle', 'wb') as to_write:\n",
    "    pickle.dump(census_data, to_write)"
   ]
  },
  {
   "cell_type": "code",
   "execution_count": null,
   "metadata": {},
   "outputs": [],
   "source": []
  }
 ],
 "metadata": {
  "kernelspec": {
   "display_name": "Python 3",
   "language": "python",
   "name": "python3"
  },
  "language_info": {
   "codemirror_mode": {
    "name": "ipython",
    "version": 3
   },
   "file_extension": ".py",
   "mimetype": "text/x-python",
   "name": "python",
   "nbconvert_exporter": "python",
   "pygments_lexer": "ipython3",
   "version": "3.6.5"
  }
 },
 "nbformat": 4,
 "nbformat_minor": 2
}
